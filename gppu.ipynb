{
  "nbformat": 4,
  "nbformat_minor": 0,
  "metadata": {
    "colab": {
      "name": "gppu.ipynb",
      "provenance": [],
      "authorship_tag": "ABX9TyPNRXqJrCoPt8NKBg5ABmDZ",
      "include_colab_link": true
    },
    "kernelspec": {
      "name": "python3",
      "display_name": "Python 3"
    }
  },
  "cells": [
    {
      "cell_type": "markdown",
      "metadata": {
        "id": "view-in-github",
        "colab_type": "text"
      },
      "source": [
        "<a href=\"https://colab.research.google.com/github/Oku-Git20Apr/JLab_nnL/blob/master/gppu.ipynb\" target=\"_parent\"><img src=\"https://colab.research.google.com/assets/colab-badge.svg\" alt=\"Open In Colab\"/></a>"
      ]
    },
    {
      "cell_type": "code",
      "metadata": {
        "id": "aGnlLPReZ3oq",
        "colab_type": "code",
        "colab": {
          "base_uri": "https://localhost:8080/",
          "height": 1000
        },
        "outputId": "60ab956f-1f70-4d10-d0b1-9037f5505c4f"
      },
      "source": [
        "pip install dwave-ocean-sdk"
      ],
      "execution_count": 1,
      "outputs": [
        {
          "output_type": "stream",
          "text": [
            "Collecting dwave-ocean-sdk\n",
            "  Downloading https://files.pythonhosted.org/packages/03/7c/53ee75bbaca746f522e9d538b0aee1935a1e1db6d352b21a5526a4d4b864/dwave_ocean_sdk-2.6.0-py3-none-any.whl\n",
            "Collecting pyqubo>=0.4.0\n",
            "  Downloading https://files.pythonhosted.org/packages/28/57/ba41de3b13ba23e981463aa1daa2ebe6bd9dcddb15571e4c5905463326c7/pyqubo-0.4.0.tar.gz\n",
            "Collecting dwave-neal==0.5.4\n",
            "\u001b[?25l  Downloading https://files.pythonhosted.org/packages/c6/14/964a6a7aff39d97fbcb9ff82a4525a484d301468048a706be3dcc5be64ca/dwave_neal-0.5.4-cp36-cp36m-manylinux1_x86_64.whl (390kB)\n",
            "\u001b[K     |████████████████████████████████| 399kB 5.8MB/s \n",
            "\u001b[?25hCollecting dwave-inspector==0.2.3\n",
            "  Downloading https://files.pythonhosted.org/packages/ea/f8/c097cfbed7ea517ea0cffcad714ac08fba01d2845ab9b801916fca0053d2/dwave_inspector-0.2.3-py3-none-any.whl\n",
            "Collecting dwave-networkx==0.8.7\n",
            "\u001b[?25l  Downloading https://files.pythonhosted.org/packages/64/3d/4d2ad7cbf7d1cd6ac3e5dae86b86b235fa41219823bc301b7929ab15f15e/dwave_networkx-0.8.7-py2.py3-none-any.whl (81kB)\n",
            "\u001b[K     |████████████████████████████████| 81kB 6.1MB/s \n",
            "\u001b[?25hCollecting dwave-system==0.9.9\n",
            "\u001b[?25l  Downloading https://files.pythonhosted.org/packages/40/3b/054be1051f30de648893db9833bf89039dbb0ec2e25df7412ab0d2b73cb5/dwave_system-0.9.9-py3-none-any.whl (91kB)\n",
            "\u001b[K     |████████████████████████████████| 92kB 5.9MB/s \n",
            "\u001b[?25hCollecting dwave-qbsolv==0.3.0\n",
            "\u001b[?25l  Downloading https://files.pythonhosted.org/packages/eb/6a/2e2842b329b43f6e9d21f9ec8660392e7b476c710f5495a56bb297d05512/dwave_qbsolv-0.3.0-cp36-cp36m-manylinux1_x86_64.whl (204kB)\n",
            "\u001b[K     |████████████████████████████████| 204kB 11.5MB/s \n",
            "\u001b[?25hCollecting penaltymodel-mip==0.2.3; platform_machine == \"x86_64\" or platform_machine == \"amd64\" or platform_machine == \"AMD64\"\n",
            "  Downloading https://files.pythonhosted.org/packages/7d/f5/fa3cc200983692675fdb07c57d6e28ee0b07a98e7ec0955f4d45ab7c4764/penaltymodel_mip-0.2.3-py3-none-any.whl\n",
            "Collecting dwave-hybrid==0.5.1\n",
            "\u001b[?25l  Downloading https://files.pythonhosted.org/packages/cb/aa/0823e6b5ff8433873fab36bbc32bbc0aaf5e3c158601fd018bd1cb484050/dwave_hybrid-0.5.1-py3-none-any.whl (91kB)\n",
            "\u001b[K     |████████████████████████████████| 92kB 7.1MB/s \n",
            "\u001b[?25hCollecting penaltymodel-cache==0.4.1\n",
            "  Downloading https://files.pythonhosted.org/packages/02/c5/3cb25828105a8b5e4b181cb94d23593f44cfca71c4e1247a6a631dca3dd2/penaltymodel_cache-0.4.1-py3-none-any.whl\n",
            "Collecting dwavebinarycsp==0.1.2\n",
            "  Downloading https://files.pythonhosted.org/packages/e6/f2/8422100bfa1a9cce5c0f3ca8b088a3d1f46582c0085adb2db09837dbc0f1/dwavebinarycsp-0.1.2-py3-none-any.whl\n",
            "Collecting dwave-cloud-client==0.7.7\n",
            "\u001b[?25l  Downloading https://files.pythonhosted.org/packages/42/92/b29b7570c69dce5eb67205281d954b261f7a63d6f0ffe1f37127e458ec99/dwave_cloud_client-0.7.7-py3-none-any.whl (85kB)\n",
            "\u001b[K     |████████████████████████████████| 92kB 7.3MB/s \n",
            "\u001b[?25hCollecting dimod==0.9.5\n",
            "\u001b[?25l  Downloading https://files.pythonhosted.org/packages/81/58/fbba4f4d4497bbb071cd9d769c9fa479ffdd6278b6bb7bdebd7b2e921d7d/dimod-0.9.5-cp36-cp36m-manylinux1_x86_64.whl (4.7MB)\n",
            "\u001b[K     |████████████████████████████████| 4.7MB 15.7MB/s \n",
            "\u001b[?25hCollecting minorminer==0.2.0\n",
            "\u001b[?25l  Downloading https://files.pythonhosted.org/packages/52/5e/b2b212819953e9a6c788109555e721e229fc225df6de80f6367c480068e2/minorminer-0.2.0-cp36-cp36m-manylinux1_x86_64.whl (3.3MB)\n",
            "\u001b[K     |████████████████████████████████| 3.3MB 31.8MB/s \n",
            "\u001b[?25hCollecting penaltymodel==0.16.3\n",
            "  Downloading https://files.pythonhosted.org/packages/e7/1d/d114fe1c401719964fbf404c2c25113edb994df9f93c5773c19da406d192/penaltymodel-0.16.3-py3-none-any.whl\n",
            "Collecting dwave-tabu==0.3.0\n",
            "\u001b[?25l  Downloading https://files.pythonhosted.org/packages/f1/b0/bd1bee98246423e9b39bcc71397f82c6d66def17e67d0878e3a0b7c06f59/dwave_tabu-0.3.0-cp36-cp36m-manylinux1_x86_64.whl (788kB)\n",
            "\u001b[K     |████████████████████████████████| 798kB 44.1MB/s \n",
            "\u001b[?25hCollecting penaltymodel-lp==0.1.3\n",
            "  Downloading https://files.pythonhosted.org/packages/e2/86/4c4c4de17c7e45f1958547da6a3fe866b6a6f48bf4785575bf6cc9ab91ca/penaltymodel_lp-0.1.3-py3-none-any.whl\n",
            "Requirement already satisfied: numpy<2.0.0,>=1.14.0 in /usr/local/lib/python3.6/dist-packages (from pyqubo>=0.4.0->dwave-ocean-sdk) (1.18.5)\n",
            "Requirement already satisfied: six<2.0.0,>=1.10.0 in /usr/local/lib/python3.6/dist-packages (from pyqubo>=0.4.0->dwave-ocean-sdk) (1.15.0)\n",
            "Collecting importlib-resources; python_version < \"3.7\"\n",
            "  Downloading https://files.pythonhosted.org/packages/ba/03/0f9595c0c2ef12590877f3c47e5f579759ce5caf817f8256d5dcbd8a1177/importlib_resources-3.0.0-py2.py3-none-any.whl\n",
            "Requirement already satisfied: Flask>=1.1.1 in /usr/local/lib/python3.6/dist-packages (from dwave-inspector==0.2.3->dwave-ocean-sdk) (1.1.2)\n",
            "Requirement already satisfied: networkx<3.0,>=2.0 in /usr/local/lib/python3.6/dist-packages (from dwave-networkx==0.8.7->dwave-ocean-sdk) (2.5)\n",
            "Requirement already satisfied: decorator<5.0.0,>=4.1.0 in /usr/local/lib/python3.6/dist-packages (from dwave-networkx==0.8.7->dwave-ocean-sdk) (4.4.2)\n",
            "Collecting homebase<2.0.0,>=1.0.0\n",
            "  Downloading https://files.pythonhosted.org/packages/50/ad/e0080c35bd177682d5118a95bc2e7c1ac0541394b4ffce5e9554b6a077f9/homebase-1.0.1-py2.py3-none-any.whl\n",
            "Collecting ortools<8.0.0,>=6.6.4659\n",
            "\u001b[?25l  Downloading https://files.pythonhosted.org/packages/6c/e9/57ee68e41e02b00836dbe61a4f9679c953623168dcca3a84e2cd16a3e9b2/ortools-7.8.7959-cp36-cp36m-manylinux1_x86_64.whl (32.7MB)\n",
            "\u001b[K     |████████████████████████████████| 32.7MB 121kB/s \n",
            "\u001b[?25hRequirement already satisfied: click>5 in /usr/local/lib/python3.6/dist-packages (from dwave-hybrid==0.5.1->dwave-ocean-sdk) (7.1.2)\n",
            "Collecting plucky>=0.4.3\n",
            "  Downloading https://files.pythonhosted.org/packages/d8/70/7b43e7280284bafecb345f4edb3eea7042cf0d089c5d112920eda650fda5/plucky-0.4.3-py2.py3-none-any.whl\n",
            "Requirement already satisfied: python-dateutil>=2.7 in /usr/local/lib/python3.6/dist-packages (from dwave-cloud-client==0.7.7->dwave-ocean-sdk) (2.8.1)\n",
            "Requirement already satisfied: requests[socks]>=2.18 in /usr/local/lib/python3.6/dist-packages (from dwave-cloud-client==0.7.7->dwave-ocean-sdk) (2.23.0)\n",
            "Requirement already satisfied: scipy in /usr/local/lib/python3.6/dist-packages (from minorminer==0.2.0->dwave-ocean-sdk) (1.4.1)\n",
            "Collecting fasteners\n",
            "  Downloading https://files.pythonhosted.org/packages/18/bd/55eb2d6397b9c0e263af9d091ebdb756b15756029b3cededf6461481bc63/fasteners-0.15-py2.py3-none-any.whl\n",
            "Requirement already satisfied: zipp>=0.4; python_version < \"3.8\" in /usr/local/lib/python3.6/dist-packages (from importlib-resources; python_version < \"3.7\"->dwave-inspector==0.2.3->dwave-ocean-sdk) (3.1.0)\n",
            "Requirement already satisfied: Jinja2>=2.10.1 in /usr/local/lib/python3.6/dist-packages (from Flask>=1.1.1->dwave-inspector==0.2.3->dwave-ocean-sdk) (2.11.2)\n",
            "Requirement already satisfied: Werkzeug>=0.15 in /usr/local/lib/python3.6/dist-packages (from Flask>=1.1.1->dwave-inspector==0.2.3->dwave-ocean-sdk) (1.0.1)\n",
            "Requirement already satisfied: itsdangerous>=0.24 in /usr/local/lib/python3.6/dist-packages (from Flask>=1.1.1->dwave-inspector==0.2.3->dwave-ocean-sdk) (1.1.0)\n",
            "Requirement already satisfied: protobuf>=3.12.2 in /usr/local/lib/python3.6/dist-packages (from ortools<8.0.0,>=6.6.4659->penaltymodel-mip==0.2.3; platform_machine == \"x86_64\" or platform_machine == \"amd64\" or platform_machine == \"AMD64\"->dwave-ocean-sdk) (3.12.4)\n",
            "Requirement already satisfied: certifi>=2017.4.17 in /usr/local/lib/python3.6/dist-packages (from requests[socks]>=2.18->dwave-cloud-client==0.7.7->dwave-ocean-sdk) (2020.6.20)\n",
            "Requirement already satisfied: chardet<4,>=3.0.2 in /usr/local/lib/python3.6/dist-packages (from requests[socks]>=2.18->dwave-cloud-client==0.7.7->dwave-ocean-sdk) (3.0.4)\n",
            "Requirement already satisfied: urllib3!=1.25.0,!=1.25.1,<1.26,>=1.21.1 in /usr/local/lib/python3.6/dist-packages (from requests[socks]>=2.18->dwave-cloud-client==0.7.7->dwave-ocean-sdk) (1.24.3)\n",
            "Requirement already satisfied: idna<3,>=2.5 in /usr/local/lib/python3.6/dist-packages (from requests[socks]>=2.18->dwave-cloud-client==0.7.7->dwave-ocean-sdk) (2.10)\n",
            "Requirement already satisfied: PySocks!=1.5.7,>=1.5.6; extra == \"socks\" in /usr/local/lib/python3.6/dist-packages (from requests[socks]>=2.18->dwave-cloud-client==0.7.7->dwave-ocean-sdk) (1.7.1)\n",
            "Collecting monotonic>=0.1\n",
            "  Downloading https://files.pythonhosted.org/packages/ac/aa/063eca6a416f397bd99552c534c6d11d57f58f2e94c14780f3bbf818c4cf/monotonic-1.5-py2.py3-none-any.whl\n",
            "Requirement already satisfied: MarkupSafe>=0.23 in /usr/local/lib/python3.6/dist-packages (from Jinja2>=2.10.1->Flask>=1.1.1->dwave-inspector==0.2.3->dwave-ocean-sdk) (1.1.1)\n",
            "Requirement already satisfied: setuptools in /usr/local/lib/python3.6/dist-packages (from protobuf>=3.12.2->ortools<8.0.0,>=6.6.4659->penaltymodel-mip==0.2.3; platform_machine == \"x86_64\" or platform_machine == \"amd64\" or platform_machine == \"AMD64\"->dwave-ocean-sdk) (49.6.0)\n",
            "Building wheels for collected packages: pyqubo\n",
            "  Building wheel for pyqubo (setup.py) ... \u001b[?25l\u001b[?25hdone\n",
            "  Created wheel for pyqubo: filename=pyqubo-0.4.0-cp36-none-any.whl size=40712 sha256=ded438276529dbadb8a9241ca0f38904e3ffa4327bd265b9670579243034299d\n",
            "  Stored in directory: /root/.cache/pip/wheels/77/b7/47/b989889699f788f4fecdc534bfddbb16df9a9a51f4e431b04d\n",
            "Successfully built pyqubo\n",
            "Installing collected packages: dimod, dwave-neal, pyqubo, importlib-resources, plucky, homebase, dwave-cloud-client, dwave-tabu, dwave-networkx, monotonic, fasteners, minorminer, dwave-system, dwave-inspector, dwave-qbsolv, penaltymodel, ortools, penaltymodel-mip, dwave-hybrid, penaltymodel-cache, penaltymodel-lp, dwavebinarycsp, dwave-ocean-sdk\n",
            "Successfully installed dimod-0.9.5 dwave-cloud-client-0.7.7 dwave-hybrid-0.5.1 dwave-inspector-0.2.3 dwave-neal-0.5.4 dwave-networkx-0.8.7 dwave-ocean-sdk-2.6.0 dwave-qbsolv-0.3.0 dwave-system-0.9.9 dwave-tabu-0.3.0 dwavebinarycsp-0.1.2 fasteners-0.15 homebase-1.0.1 importlib-resources-3.0.0 minorminer-0.2.0 monotonic-1.5 ortools-7.8.7959 penaltymodel-0.16.3 penaltymodel-cache-0.4.1 penaltymodel-lp-0.1.3 penaltymodel-mip-0.2.3 plucky-0.4.3 pyqubo-0.4.0\n"
          ],
          "name": "stdout"
        }
      ]
    },
    {
      "cell_type": "code",
      "metadata": {
        "id": "bFWVWR0savho",
        "colab_type": "code",
        "colab": {
          "base_uri": "https://localhost:8080/",
          "height": 161
        },
        "outputId": "28f1197a-ea99-4db4-c8fb-ed2799392305"
      },
      "source": [
        "!dwave config create"
      ],
      "execution_count": 14,
      "outputs": [
        {
          "output_type": "stream",
          "text": [
            "Configuration file not found; the default location is: /root/.config/dwave/dwave.conf\n",
            "Configuration file path [/root/.config/dwave/dwave.conf]: test_conf\n",
            "Profile (create new) [prod]: prod\n",
            "API endpoint URL [skip]: \n",
            "Authentication token [skip]: \n",
            "Default client class [skip]: \n",
            "Default solver [skip]: \n",
            "Configuration saved.\n"
          ],
          "name": "stdout"
        }
      ]
    },
    {
      "cell_type": "code",
      "metadata": {
        "id": "VcRxX46lg4eI",
        "colab_type": "code",
        "colab": {
          "base_uri": "https://localhost:8080/",
          "height": 107
        },
        "outputId": "cfbd7272-c569-49eb-ae88-5d472668a7c1"
      },
      "source": [
        "pip install pyQUBO"
      ],
      "execution_count": 15,
      "outputs": [
        {
          "output_type": "stream",
          "text": [
            "Requirement already satisfied: pyQUBO in /usr/local/lib/python3.6/dist-packages (0.4.0)\n",
            "Requirement already satisfied: six<2.0.0,>=1.10.0 in /usr/local/lib/python3.6/dist-packages (from pyQUBO) (1.15.0)\n",
            "Requirement already satisfied: dwave-neal>=0.4.2 in /usr/local/lib/python3.6/dist-packages (from pyQUBO) (0.5.4)\n",
            "Requirement already satisfied: dimod>=0.7.4 in /usr/local/lib/python3.6/dist-packages (from pyQUBO) (0.9.5)\n",
            "Requirement already satisfied: numpy<2.0.0,>=1.14.0 in /usr/local/lib/python3.6/dist-packages (from pyQUBO) (1.18.5)\n"
          ],
          "name": "stdout"
        }
      ]
    },
    {
      "cell_type": "code",
      "metadata": {
        "id": "CpWFTnHPg8h0",
        "colab_type": "code",
        "colab": {
          "base_uri": "https://localhost:8080/",
          "height": 107
        },
        "outputId": "bcf871cc-c4aa-4f7a-e1ca-43a10136f2fa"
      },
      "source": [
        "!pip install pyQUBO"
      ],
      "execution_count": 16,
      "outputs": [
        {
          "output_type": "stream",
          "text": [
            "Requirement already satisfied: pyQUBO in /usr/local/lib/python3.6/dist-packages (0.4.0)\n",
            "Requirement already satisfied: dimod>=0.7.4 in /usr/local/lib/python3.6/dist-packages (from pyQUBO) (0.9.5)\n",
            "Requirement already satisfied: six<2.0.0,>=1.10.0 in /usr/local/lib/python3.6/dist-packages (from pyQUBO) (1.15.0)\n",
            "Requirement already satisfied: dwave-neal>=0.4.2 in /usr/local/lib/python3.6/dist-packages (from pyQUBO) (0.5.4)\n",
            "Requirement already satisfied: numpy<2.0.0,>=1.14.0 in /usr/local/lib/python3.6/dist-packages (from pyQUBO) (1.18.5)\n"
          ],
          "name": "stdout"
        }
      ]
    },
    {
      "cell_type": "code",
      "metadata": {
        "id": "Kp4CipJahKg1",
        "colab_type": "code",
        "colab": {
          "base_uri": "https://localhost:8080/",
          "height": 325
        },
        "outputId": "183a4681-bd4e-4906-bbf2-b9398b5b8066"
      },
      "source": [
        "!pip install openjij"
      ],
      "execution_count": 17,
      "outputs": [
        {
          "output_type": "stream",
          "text": [
            "Collecting openjij\n",
            "\u001b[?25l  Downloading https://files.pythonhosted.org/packages/2e/ad/ad44ed05e264b88b8181961a3c829e27d73293ab8b75ea7ca78125386337/openjij-0.1.0-cp36-cp36m-manylinux2014_x86_64.whl (415kB)\n",
            "\u001b[K     |████████████████████████████████| 419kB 2.8MB/s \n",
            "\u001b[?25hRequirement already satisfied: dimod>=0.9.1 in /usr/local/lib/python3.6/dist-packages (from openjij) (0.9.5)\n",
            "Collecting jij-cimod>=1.0.4\n",
            "\u001b[?25l  Downloading https://files.pythonhosted.org/packages/30/f9/1f8b7876c50236a8bab6114520819af377aaa375b4ca5dac6b45dc2cd883/jij_cimod-1.0.4-cp36-cp36m-manylinux2014_x86_64.whl (427kB)\n",
            "\u001b[K     |████████████████████████████████| 430kB 12.5MB/s \n",
            "\u001b[?25hRequirement already satisfied: scipy in /usr/local/lib/python3.6/dist-packages (from openjij) (1.4.1)\n",
            "Requirement already satisfied: requests in /usr/local/lib/python3.6/dist-packages (from openjij) (2.23.0)\n",
            "Requirement already satisfied: numpy>=1.18.4 in /usr/local/lib/python3.6/dist-packages (from openjij) (1.18.5)\n",
            "Requirement already satisfied: chardet<4,>=3.0.2 in /usr/local/lib/python3.6/dist-packages (from requests->openjij) (3.0.4)\n",
            "Requirement already satisfied: idna<3,>=2.5 in /usr/local/lib/python3.6/dist-packages (from requests->openjij) (2.10)\n",
            "Requirement already satisfied: urllib3!=1.25.0,!=1.25.1,<1.26,>=1.21.1 in /usr/local/lib/python3.6/dist-packages (from requests->openjij) (1.24.3)\n",
            "Requirement already satisfied: certifi>=2017.4.17 in /usr/local/lib/python3.6/dist-packages (from requests->openjij) (2020.6.20)\n",
            "Installing collected packages: jij-cimod, openjij\n",
            "Successfully installed jij-cimod-1.0.4 openjij-0.1.0\n"
          ],
          "name": "stdout"
        }
      ]
    },
    {
      "cell_type": "code",
      "metadata": {
        "id": "4PtQW6DJjuxu",
        "colab_type": "code",
        "colab": {}
      },
      "source": [
        "from pyqubo  import Array"
      ],
      "execution_count": 18,
      "outputs": []
    },
    {
      "cell_type": "code",
      "metadata": {
        "id": "17leOHMgjye8",
        "colab_type": "code",
        "colab": {}
      },
      "source": [
        "N=8"
      ],
      "execution_count": 20,
      "outputs": []
    },
    {
      "cell_type": "code",
      "metadata": {
        "id": "AOmuY738j18r",
        "colab_type": "code",
        "colab": {}
      },
      "source": [
        "vartype = \"SPIN\""
      ],
      "execution_count": 21,
      "outputs": []
    },
    {
      "cell_type": "code",
      "metadata": {
        "id": "u7VnpiQVkr50",
        "colab_type": "code",
        "colab": {}
      },
      "source": [
        "x = Array.create(\"x\",shape=N,vartype=vartype)"
      ],
      "execution_count": 22,
      "outputs": []
    },
    {
      "cell_type": "code",
      "metadata": {
        "id": "z1kIHn36mISU",
        "colab_type": "code",
        "colab": {}
      },
      "source": [
        "import numpy as np"
      ],
      "execution_count": 23,
      "outputs": []
    },
    {
      "cell_type": "code",
      "metadata": {
        "id": "rFeDcruWmKk9",
        "colab_type": "code",
        "colab": {}
      },
      "source": [
        "n = np.linspace(1,N,N)"
      ],
      "execution_count": 24,
      "outputs": []
    },
    {
      "cell_type": "code",
      "metadata": {
        "id": "NfgIZTCWmfrF",
        "colab_type": "code",
        "colab": {
          "base_uri": "https://localhost:8080/",
          "height": 35
        },
        "outputId": "bf3ce78c-e879-403a-97a7-b2e57c05840e"
      },
      "source": [
        "print(n);"
      ],
      "execution_count": 25,
      "outputs": [
        {
          "output_type": "stream",
          "text": [
            "[1. 2. 3. 4. 5. 6. 7. 8.]\n"
          ],
          "name": "stdout"
        }
      ]
    },
    {
      "cell_type": "code",
      "metadata": {
        "id": "Tx-zYQ0DmqON",
        "colab_type": "code",
        "colab": {
          "base_uri": "https://localhost:8080/",
          "height": 35
        },
        "outputId": "6d87e344-d609-46ed-e1ae-652baa12bf3c"
      },
      "source": [
        "print(x)"
      ],
      "execution_count": 26,
      "outputs": [
        {
          "output_type": "stream",
          "text": [
            "Array([Spin(x[0]), Spin(x[1]), Spin(x[2]), Spin(x[3]), Spin(x[4]), Spin(x[5]), Spin(x[6]), Spin(x[7])])\n"
          ],
          "name": "stdout"
        }
      ]
    },
    {
      "cell_type": "code",
      "metadata": {
        "id": "nAjfOTROm1o0",
        "colab_type": "code",
        "colab": {}
      },
      "source": [
        "E_cost = np.sum(n*x)**2"
      ],
      "execution_count": 27,
      "outputs": []
    },
    {
      "cell_type": "code",
      "metadata": {
        "id": "BOqswsZUm3a8",
        "colab_type": "code",
        "colab": {
          "base_uri": "https://localhost:8080/",
          "height": 55
        },
        "outputId": "6c9c0e0e-b01e-4c85-ceb0-22a793d2ae9f"
      },
      "source": [
        "print(E_cost)"
      ],
      "execution_count": 28,
      "outputs": [
        {
          "output_type": "stream",
          "text": [
            "(((Spin(x[0])*Num(1.0))+(Spin(x[1])*Num(2.0))+(Spin(x[2])*Num(3.0))+(Spin(x[3])*Num(4.0))+(Spin(x[4])*Num(5.0))+(Spin(x[5])*Num(6.0))+(Spin(x[6])*Num(7.0))+(Spin(x[7])*Num(8.0)))*((Spin(x[0])*Num(1.0))+(Spin(x[1])*Num(2.0))+(Spin(x[2])*Num(3.0))+(Spin(x[3])*Num(4.0))+(Spin(x[4])*Num(5.0))+(Spin(x[5])*Num(6.0))+(Spin(x[6])*Num(7.0))+(Spin(x[7])*Num(8.0))))\n"
          ],
          "name": "stdout"
        }
      ]
    },
    {
      "cell_type": "code",
      "metadata": {
        "id": "LZ0S3sKHnj50",
        "colab_type": "code",
        "colab": {}
      },
      "source": [
        "model = E_cost.compile()"
      ],
      "execution_count": 29,
      "outputs": []
    },
    {
      "cell_type": "code",
      "metadata": {
        "id": "AhS071Xfnmkl",
        "colab_type": "code",
        "colab": {}
      },
      "source": [
        "h, J, offset = model.to_ising()"
      ],
      "execution_count": 30,
      "outputs": []
    },
    {
      "cell_type": "code",
      "metadata": {
        "id": "u3_6OHfdn02V",
        "colab_type": "code",
        "colab": {
          "base_uri": "https://localhost:8080/",
          "height": 35
        },
        "outputId": "478842da-d744-43b7-ba0c-1210edece146"
      },
      "source": [
        "print(h)"
      ],
      "execution_count": 31,
      "outputs": [
        {
          "output_type": "stream",
          "text": [
            "{'x[0]': 0.0, 'x[1]': 0.0, 'x[2]': 0.0, 'x[3]': 0.0, 'x[4]': 0.0, 'x[5]': 0.0, 'x[6]': 0.0, 'x[7]': 0.0}\n"
          ],
          "name": "stdout"
        }
      ]
    },
    {
      "cell_type": "code",
      "metadata": {
        "id": "ekFeN540n3_F",
        "colab_type": "code",
        "colab": {
          "base_uri": "https://localhost:8080/",
          "height": 55
        },
        "outputId": "35e44a36-c72a-4a0a-a48a-890302239dde"
      },
      "source": [
        "print(J)"
      ],
      "execution_count": 32,
      "outputs": [
        {
          "output_type": "stream",
          "text": [
            "{('x[0]', 'x[1]'): 4.0, ('x[0]', 'x[2]'): 6.0, ('x[0]', 'x[3]'): 8.0, ('x[0]', 'x[4]'): 10.0, ('x[0]', 'x[5]'): 12.0, ('x[0]', 'x[6]'): 14.0, ('x[0]', 'x[7]'): 16.0, ('x[1]', 'x[2]'): 12.0, ('x[1]', 'x[3]'): 16.0, ('x[1]', 'x[4]'): 20.0, ('x[1]', 'x[5]'): 24.0, ('x[1]', 'x[6]'): 28.0, ('x[1]', 'x[7]'): 32.0, ('x[2]', 'x[3]'): 24.0, ('x[2]', 'x[4]'): 30.0, ('x[2]', 'x[5]'): 36.0, ('x[2]', 'x[6]'): 42.0, ('x[2]', 'x[7]'): 48.0, ('x[3]', 'x[4]'): 40.0, ('x[3]', 'x[5]'): 48.0, ('x[3]', 'x[6]'): 56.0, ('x[3]', 'x[7]'): 64.0, ('x[4]', 'x[5]'): 60.0, ('x[4]', 'x[6]'): 70.0, ('x[4]', 'x[7]'): 80.0, ('x[5]', 'x[6]'): 84.0, ('x[5]', 'x[7]'): 96.0, ('x[6]', 'x[7]'): 112.0}\n"
          ],
          "name": "stdout"
        }
      ]
    },
    {
      "cell_type": "code",
      "metadata": {
        "id": "d5iRO3nXn59_",
        "colab_type": "code",
        "colab": {
          "base_uri": "https://localhost:8080/",
          "height": 35
        },
        "outputId": "3ab0b015-e086-4bc7-faae-9285fb5b281e"
      },
      "source": [
        "print(offset)"
      ],
      "execution_count": 33,
      "outputs": [
        {
          "output_type": "stream",
          "text": [
            "204.0\n"
          ],
          "name": "stdout"
        }
      ]
    },
    {
      "cell_type": "code",
      "metadata": {
        "id": "Ta5jf-gUoMbF",
        "colab_type": "code",
        "colab": {}
      },
      "source": [
        "import openjij as jij"
      ],
      "execution_count": 35,
      "outputs": []
    },
    {
      "cell_type": "code",
      "metadata": {
        "id": "8LnKwyCYpwG9",
        "colab_type": "code",
        "colab": {}
      },
      "source": [
        "sampler = jij.SQASampler(beta=10.0,gamma=1.0,trotter=4,num_sweeps=100)"
      ],
      "execution_count": 36,
      "outputs": []
    },
    {
      "cell_type": "code",
      "metadata": {
        "id": "g-aK7yhep08e",
        "colab_type": "code",
        "colab": {}
      },
      "source": [
        "response = sampler.sample_ising(h,J,num_reads=100)"
      ],
      "execution_count": 37,
      "outputs": []
    },
    {
      "cell_type": "code",
      "metadata": {
        "id": "9VwY0mEtp3EN",
        "colab_type": "code",
        "colab": {
          "base_uri": "https://localhost:8080/",
          "height": 1000
        },
        "outputId": "75009489-435c-470e-9a67-820cc8efeab4"
      },
      "source": [
        "print(response)"
      ],
      "execution_count": 38,
      "outputs": [
        {
          "output_type": "stream",
          "text": [
            "   x[0] x[1] x[2] x[3] x[4] x[5] x[6] x[7] energy num_oc.\n",
            "0    +1   -1   -1   +1   +1   -1   -1   +1 -204.0       1\n",
            "4    +1   -1   -1   +1   +1   -1   -1   +1 -204.0       1\n",
            "7    +1   -1   +1   -1   -1   +1   -1   +1 -204.0       1\n",
            "9    -1   -1   +1   +1   +1   +1   -1   -1 -204.0       1\n",
            "10   -1   +1   +1   -1   -1   +1   +1   -1 -204.0       1\n",
            "12   -1   +1   -1   +1   +1   -1   +1   -1 -204.0       1\n",
            "14   +1   -1   -1   +1   +1   -1   -1   +1 -204.0       1\n",
            "15   +1   -1   +1   -1   -1   +1   -1   +1 -204.0       1\n",
            "16   +1   -1   +1   -1   -1   +1   -1   +1 -204.0       1\n",
            "17   -1   -1   +1   -1   -1   -1   +1   +1 -204.0       1\n",
            "18   -1   +1   +1   -1   +1   -1   -1   +1 -204.0       1\n",
            "19   -1   +1   +1   -1   -1   +1   +1   -1 -204.0       1\n",
            "22   -1   +1   +1   -1   +1   -1   -1   +1 -204.0       1\n",
            "23   +1   +1   -1   -1   -1   -1   +1   +1 -204.0       1\n",
            "24   -1   +1   +1   -1   -1   +1   +1   -1 -204.0       1\n",
            "26   -1   -1   +1   -1   -1   -1   +1   +1 -204.0       1\n",
            "31   -1   +1   -1   +1   +1   -1   +1   -1 -204.0       1\n",
            "33   -1   -1   -1   -1   +1   +1   +1   -1 -204.0       1\n",
            "34   -1   -1   +1   -1   -1   -1   +1   +1 -204.0       1\n",
            "35   -1   -1   +1   -1   -1   -1   +1   +1 -204.0       1\n",
            "36   -1   +1   +1   -1   -1   +1   +1   -1 -204.0       1\n",
            "38   +1   -1   -1   +1   -1   +1   +1   -1 -204.0       1\n",
            "39   -1   -1   +1   +1   +1   +1   -1   -1 -204.0       1\n",
            "40   +1   +1   +1   -1   +1   -1   +1   -1 -204.0       1\n",
            "41   +1   -1   -1   +1   -1   +1   +1   -1 -204.0       1\n",
            "42   -1   +1   -1   +1   +1   -1   +1   -1 -204.0       1\n",
            "43   +1   +1   +1   -1   +1   -1   +1   -1 -204.0       1\n",
            "45   -1   +1   -1   +1   +1   -1   +1   -1 -204.0       1\n",
            "46   -1   -1   +1   +1   +1   +1   -1   -1 -204.0       1\n",
            "47   -1   -1   +1   -1   -1   -1   +1   +1 -204.0       1\n",
            "48   +1   -1   -1   +1   +1   -1   -1   +1 -204.0       1\n",
            "50   +1   +1   -1   -1   -1   -1   +1   +1 -204.0       1\n",
            "51   -1   -1   +1   -1   -1   -1   +1   +1 -204.0       1\n",
            "52   +1   -1   +1   -1   -1   +1   -1   +1 -204.0       1\n",
            "53   +1   +1   +1   -1   +1   -1   +1   -1 -204.0       1\n",
            "54   -1   -1   +1   -1   -1   -1   +1   +1 -204.0       1\n",
            "55   +1   +1   +1   -1   +1   -1   +1   -1 -204.0       1\n",
            "56   +1   -1   -1   +1   -1   +1   +1   -1 -204.0       1\n",
            "58   -1   +1   +1   -1   -1   +1   +1   -1 -204.0       1\n",
            "59   -1   +1   -1   +1   +1   -1   +1   -1 -204.0       1\n",
            "60   +1   -1   +1   -1   -1   +1   -1   +1 -204.0       1\n",
            "64   -1   +1   +1   -1   +1   -1   -1   +1 -204.0       1\n",
            "65   -1   +1   +1   -1   +1   -1   -1   +1 -204.0       1\n",
            "66   +1   +1   -1   +1   +1   +1   -1   -1 -204.0       1\n",
            "67   -1   +1   -1   +1   +1   -1   +1   -1 -204.0       1\n",
            "68   -1   -1   -1   +1   -1   +1   -1   +1 -204.0       1\n",
            "69   -1   +1   -1   +1   +1   -1   +1   -1 -204.0       1\n",
            "70   -1   -1   +1   +1   +1   +1   -1   -1 -204.0       1\n",
            "72   +1   -1   -1   +1   -1   +1   +1   -1 -204.0       1\n",
            "74   -1   +1   +1   -1   -1   +1   +1   -1 -204.0       1\n",
            "75   -1   +1   +1   -1   +1   -1   -1   +1 -204.0       1\n",
            "77   +1   +1   -1   +1   +1   +1   -1   -1 -204.0       1\n",
            "79   -1   +1   +1   -1   +1   -1   -1   +1 -204.0       1\n",
            "80   +1   -1   -1   +1   -1   +1   +1   -1 -204.0       1\n",
            "81   -1   -1   +1   +1   +1   +1   -1   -1 -204.0       1\n",
            "82   -1   +1   +1   -1   +1   -1   -1   +1 -204.0       1\n",
            "83   -1   -1   -1   +1   -1   +1   -1   +1 -204.0       1\n",
            "84   +1   +1   -1   +1   +1   +1   -1   -1 -204.0       1\n",
            "88   -1   +1   +1   -1   +1   -1   -1   +1 -204.0       1\n",
            "89   +1   -1   -1   +1   +1   -1   -1   +1 -204.0       1\n",
            "90   +1   +1   +1   +1   -1   -1   -1   +1 -204.0       1\n",
            "91   +1   +1   -1   -1   -1   -1   +1   +1 -204.0       1\n",
            "93   -1   +1   +1   -1   -1   +1   +1   -1 -204.0       1\n",
            "95   -1   -1   +1   -1   -1   -1   +1   +1 -204.0       1\n",
            "96   -1   -1   -1   -1   +1   +1   +1   -1 -204.0       1\n",
            "97   -1   -1   +1   -1   -1   -1   +1   +1 -204.0       1\n",
            "99   +1   -1   +1   -1   -1   +1   -1   +1 -204.0       1\n",
            "1    +1   -1   +1   +1   +1   +1   -1   -1 -200.0       1\n",
            "3    +1   +1   +1   +1   -1   -1   +1   -1 -200.0       1\n",
            "5    -1   -1   -1   -1   +1   +1   -1   +1 -200.0       1\n",
            "8    -1   -1   -1   +1   -1   -1   +1   +1 -200.0       1\n",
            "13   +1   +1   -1   -1   -1   +1   -1   +1 -200.0       1\n",
            "20   +1   -1   -1   +1   -1   +1   -1   +1 -200.0       1\n",
            "21   +1   -1   -1   +1   -1   +1   -1   +1 -200.0       1\n",
            "25   -1   +1   +1   -1   -1   +1   -1   +1 -200.0       1\n",
            "27   -1   +1   -1   +1   +1   +1   -1   -1 -200.0       1\n",
            "28   -1   -1   -1   -1   +1   +1   -1   +1 -200.0       1\n",
            "30   +1   -1   -1   +1   -1   +1   -1   +1 -200.0       1\n",
            "37   +1   -1   +1   -1   -1   +1   +1   -1 -200.0       1\n",
            "57   +1   -1   -1   +1   -1   +1   -1   +1 -200.0       1\n",
            "61   -1   -1   -1   +1   -1   +1   +1   -1 -200.0       1\n",
            "63   +1   -1   +1   -1   -1   -1   +1   +1 -200.0       1\n",
            "71   -1   +1   -1   +1   -1   +1   +1   -1 -200.0       1\n",
            "73   -1   -1   +1   +1   +1   -1   +1   -1 -200.0       1\n",
            "76   -1   -1   +1   -1   -1   +1   -1   +1 -200.0       1\n",
            "85   +1   -1   +1   -1   -1   -1   +1   +1 -200.0       1\n",
            "87   -1   -1   -1   +1   +1   -1   -1   +1 -200.0       1\n",
            "92   +1   +1   +1   +1   -1   -1   +1   -1 -200.0       1\n",
            "94   -1   +1   -1   +1   +1   +1   -1   -1 -200.0       1\n",
            "11   +1   +1   +1   +1   -1   +1   -1   -1 -188.0       1\n",
            "29   -1   +1   +1   +1   +1   +1   -1   -1 -188.0       1\n",
            "62   -1   -1   -1   -1   +1   -1   +1   +1 -188.0       1\n",
            "78   -1   +1   +1   -1   -1   -1   +1   +1 -188.0       1\n",
            "86   +1   +1   +1   +1   -1   +1   -1   -1 -188.0       1\n",
            "6    -1   +1   -1   -1   +1   -1   -1   +1 -168.0       1\n",
            "44   -1   +1   -1   -1   -1   +1   +1   -1 -168.0       1\n",
            "98   -1   -1   -1   +1   +1   +1   -1   -1 -168.0       1\n",
            "32   -1   +1   +1   -1   +1   +1   +1   -1 -104.0       1\n",
            "49   +1   +1   -1   -1   +1   -1   +1   +1 -104.0       1\n",
            "2    +1   -1   -1   +1   +1   +1   -1   +1  -60.0       1\n",
            "['SPIN', 100 rows, 100 samples, 8 variables]\n"
          ],
          "name": "stdout"
        }
      ]
    },
    {
      "cell_type": "code",
      "metadata": {
        "id": "qQ_kZZNTq5jt",
        "colab_type": "code",
        "colab": {}
      },
      "source": [
        "spin = response.record[\"sample\"][0]"
      ],
      "execution_count": 39,
      "outputs": []
    },
    {
      "cell_type": "code",
      "metadata": {
        "id": "o0cUnZXcq9RW",
        "colab_type": "code",
        "colab": {
          "base_uri": "https://localhost:8080/",
          "height": 35
        },
        "outputId": "b9fe9890-25f9-407e-c4de-4fa3bcff6d1c"
      },
      "source": [
        "temp = 0\n",
        "for k in range(N):\n",
        "  if spin[k] > 0:\n",
        "    temp += n[k]\n",
        "print(temp,n.sum())"
      ],
      "execution_count": 40,
      "outputs": [
        {
          "output_type": "stream",
          "text": [
            "18.0 36.0\n"
          ],
          "name": "stdout"
        }
      ]
    }
  ]
}