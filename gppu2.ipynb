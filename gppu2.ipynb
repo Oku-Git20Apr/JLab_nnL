{
  "nbformat": 4,
  "nbformat_minor": 0,
  "metadata": {
    "colab": {
      "name": "gppu2.ipynb",
      "provenance": [],
      "authorship_tag": "ABX9TyOLlqQlzQ1oNb14NTRK9CjY",
      "include_colab_link": true
    },
    "kernelspec": {
      "name": "python3",
      "display_name": "Python 3"
    }
  },
  "cells": [
    {
      "cell_type": "markdown",
      "metadata": {
        "id": "view-in-github",
        "colab_type": "text"
      },
      "source": [
        "<a href=\"https://colab.research.google.com/github/Oku-Git20Apr/JLab_nnL/blob/master/gppu2.ipynb\" target=\"_parent\"><img src=\"https://colab.research.google.com/assets/colab-badge.svg\" alt=\"Open In Colab\"/></a>"
      ]
    },
    {
      "cell_type": "code",
      "metadata": {
        "id": "B94Y4_jAwoNe",
        "colab_type": "code",
        "colab": {
          "base_uri": "https://localhost:8080/",
          "height": 415
        },
        "outputId": "163eb93a-6e22-481e-bb2c-41f230688112"
      },
      "source": [
        "!pip install pyQUBO\n",
        "!pip install openjij"
      ],
      "execution_count": 3,
      "outputs": [
        {
          "output_type": "stream",
          "text": [
            "Requirement already satisfied: pyQUBO in /usr/local/lib/python3.6/dist-packages (0.4.0)\n",
            "Requirement already satisfied: six<2.0.0,>=1.10.0 in /usr/local/lib/python3.6/dist-packages (from pyQUBO) (1.15.0)\n",
            "Requirement already satisfied: dwave-neal>=0.4.2 in /usr/local/lib/python3.6/dist-packages (from pyQUBO) (0.5.4)\n",
            "Requirement already satisfied: dimod>=0.7.4 in /usr/local/lib/python3.6/dist-packages (from pyQUBO) (0.9.5)\n",
            "Requirement already satisfied: numpy<2.0.0,>=1.14.0 in /usr/local/lib/python3.6/dist-packages (from pyQUBO) (1.18.5)\n",
            "Collecting openjij\n",
            "\u001b[?25l  Downloading https://files.pythonhosted.org/packages/2e/ad/ad44ed05e264b88b8181961a3c829e27d73293ab8b75ea7ca78125386337/openjij-0.1.0-cp36-cp36m-manylinux2014_x86_64.whl (415kB)\n",
            "\u001b[K     |████████████████████████████████| 419kB 5.8MB/s \n",
            "\u001b[?25hRequirement already satisfied: scipy in /usr/local/lib/python3.6/dist-packages (from openjij) (1.4.1)\n",
            "Collecting jij-cimod>=1.0.4\n",
            "\u001b[?25l  Downloading https://files.pythonhosted.org/packages/30/f9/1f8b7876c50236a8bab6114520819af377aaa375b4ca5dac6b45dc2cd883/jij_cimod-1.0.4-cp36-cp36m-manylinux2014_x86_64.whl (427kB)\n",
            "\u001b[K     |████████████████████████████████| 430kB 14.5MB/s \n",
            "\u001b[?25hRequirement already satisfied: numpy>=1.18.4 in /usr/local/lib/python3.6/dist-packages (from openjij) (1.18.5)\n",
            "Requirement already satisfied: dimod>=0.9.1 in /usr/local/lib/python3.6/dist-packages (from openjij) (0.9.5)\n",
            "Requirement already satisfied: requests in /usr/local/lib/python3.6/dist-packages (from openjij) (2.23.0)\n",
            "Requirement already satisfied: idna<3,>=2.5 in /usr/local/lib/python3.6/dist-packages (from requests->openjij) (2.10)\n",
            "Requirement already satisfied: chardet<4,>=3.0.2 in /usr/local/lib/python3.6/dist-packages (from requests->openjij) (3.0.4)\n",
            "Requirement already satisfied: urllib3!=1.25.0,!=1.25.1,<1.26,>=1.21.1 in /usr/local/lib/python3.6/dist-packages (from requests->openjij) (1.24.3)\n",
            "Requirement already satisfied: certifi>=2017.4.17 in /usr/local/lib/python3.6/dist-packages (from requests->openjij) (2020.6.20)\n",
            "Installing collected packages: jij-cimod, openjij\n",
            "Successfully installed jij-cimod-1.0.4 openjij-0.1.0\n"
          ],
          "name": "stdout"
        }
      ]
    },
    {
      "cell_type": "code",
      "metadata": {
        "id": "8hOhQS_-wwsP",
        "colab_type": "code",
        "colab": {}
      },
      "source": [
        "from pyqubo  import Array\n",
        "N = 8\n",
        "vartype = \"SPIN\"\n",
        "x = Array.create(\"x\",shape=N,vartype=vartype)\n",
        "import numpy as np\n",
        "n = np.linspace(1,N,N)\n",
        "E_cost = np.sum(n*x)**2\n",
        "model = E_cost.compile()\n",
        "h,J, offset = model.to_ising()\n",
        "from dwave.system.samplers import DWaveSampler\n",
        "sampler = DWaveSampler(solver=\"DW_2000Q_6\",token=\"Sigi-ecbb379a5b3a8cdb257c97bafae0ce600bd26627\")\n",
        "V = sampler.nodelist\n",
        "A = sampler.edgelist\n",
        "adjacency = {}\n",
        "for i in J.keys():\n",
        "    adjacency[i] = 1\n",
        "from minorminer import find_embedding\n",
        "embedding = find_embedding(adjacency, A)\n",
        "from dwave.system.composites import FixedEmbeddingComposite\n",
        "sampler = FixedEmbeddingComposite(sampler, embedding=embedding)\n",
        "response = sampler.sample_ising(h,J,num_reads=100)"
      ],
      "execution_count": 6,
      "outputs": []
    },
    {
      "cell_type": "code",
      "metadata": {
        "id": "XBLd0ojgx8em",
        "colab_type": "code",
        "colab": {
          "base_uri": "https://localhost:8080/",
          "height": 647
        },
        "outputId": "a8bf0278-83af-4ddb-a3b1-94a21a6141d1"
      },
      "source": [
        "print(response)"
      ],
      "execution_count": 7,
      "outputs": [
        {
          "output_type": "stream",
          "text": [
            "   x[0] x[1] x[2] x[3] x[4] x[5] x[6] x[7] energy num_oc. chain_.\n",
            "0    +1   +1   -1   -1   -1   -1   +1   +1 -204.0      10    0.75\n",
            "3    -1   -1   +1   +1   +1   +1   -1   -1 -204.0       1    0.75\n",
            "5    -1   -1   +1   +1   +1   +1   -1   -1 -204.0       2    0.75\n",
            "7    -1   -1   +1   +1   +1   +1   -1   -1 -204.0       2    0.75\n",
            "9    -1   -1   +1   +1   +1   +1   -1   -1 -204.0       1    0.75\n",
            "13   -1   -1   +1   +1   +1   +1   -1   -1 -204.0       1   0.875\n",
            "14   -1   -1   +1   +1   +1   +1   -1   -1 -204.0       2   0.875\n",
            "15   -1   -1   +1   +1   +1   +1   -1   -1 -204.0       4   0.875\n",
            "32   -1   -1   +1   +1   +1   +1   -1   -1 -204.0       1    0.75\n",
            "11   +1   +1   -1   -1   -1   +1   -1   +1 -200.0       5    0.75\n",
            "16   +1   +1   -1   -1   -1   +1   -1   +1 -200.0       1   0.875\n",
            "18   +1   +1   -1   -1   -1   +1   -1   +1 -200.0       1   0.875\n",
            "20   +1   +1   -1   -1   -1   +1   -1   +1 -200.0       1   0.875\n",
            "30   +1   +1   -1   -1   -1   +1   -1   +1 -200.0       1    0.75\n",
            "21   +1   +1   -1   -1   +1   -1   -1   +1 -188.0       1     1.0\n",
            "22   +1   +1   -1   -1   +1   +1   -1   +1 -140.0       1     1.0\n",
            "25   +1   +1   -1   -1   +1   +1   -1   +1 -140.0       1     1.0\n",
            "28   +1   +1   -1   -1   +1   +1   -1   +1 -140.0       1     1.0\n",
            "6    +1   +1   -1   -1   +1   -1   +1   +1 -104.0       8    0.75\n",
            "12   +1   +1   -1   -1   +1   -1   +1   +1 -104.0       2   0.875\n",
            "1    -1   -1   +1   +1   +1   -1   -1   -1  -60.0       2    0.75\n",
            "2    +1   +1   -1   -1   -1   +1   +1   +1  -60.0      10    0.75\n",
            "4    +1   +1   -1   -1   -1   +1   +1   +1  -60.0       7    0.75\n",
            "8    +1   +1   -1   -1   -1   +1   +1   +1  -60.0       3    0.75\n",
            "10   -1   -1   +1   +1   +1   -1   +1   +1  120.0       6    0.75\n",
            "17   -1   -1   +1   +1   +1   -1   +1   +1  120.0       2   0.875\n",
            "19   -1   -1   +1   +1   +1   -1   +1   +1  120.0       3   0.875\n",
            "26   -1   -1   +1   +1   +1   -1   +1   +1  120.0       5     1.0\n",
            "29   -1   -1   +1   +1   +1   -1   +1   +1  120.0       1   0.625\n",
            "31   -1   +1   -1   -1   +1   +1   +1   +1  196.0       1   0.875\n",
            "23   -1   -1   +1   +1   +1   +1   +1   +1  696.0       6     1.0\n",
            "24   -1   -1   +1   +1   +1   +1   +1   +1  696.0       4     1.0\n",
            "27   -1   -1   +1   +1   +1   +1   +1   +1  696.0       3     1.0\n",
            "['SPIN', 33 rows, 100 samples, 8 variables]\n"
          ],
          "name": "stdout"
        }
      ]
    },
    {
      "cell_type": "code",
      "metadata": {
        "id": "gNJFAmpj03mA",
        "colab_type": "code",
        "colab": {
          "base_uri": "https://localhost:8080/",
          "height": 35
        },
        "outputId": "dc35fafb-075a-4934-875d-0c5275d2fb9b"
      },
      "source": [
        "spin = response.record[\"sample\"][0]\n",
        "temp = 0\n",
        "for k in range(N):\n",
        "    if spin[k]>0:\n",
        "        temp += n[k]\n",
        "print(temp,n.sum())\n"
      ],
      "execution_count": 8,
      "outputs": [
        {
          "output_type": "stream",
          "text": [
            "18.0 36.0\n"
          ],
          "name": "stdout"
        }
      ]
    }
  ]
}